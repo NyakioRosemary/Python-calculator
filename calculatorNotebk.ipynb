{
 "cells": [
  {
   "cell_type": "markdown",
   "id": "a2c832b1",
   "metadata": {},
   "source": [
    "## Introduction"
   ]
  },
  {
   "cell_type": "markdown",
   "id": "894339d0",
   "metadata": {},
   "source": [
    "In this project, you'll create a simple calculator which can perform basic arithmetic operations like addition, subtraction, multiplication, or division depending on the user input."
   ]
  },
  {
   "cell_type": "markdown",
   "id": "4a95bf2c",
   "metadata": {},
   "source": [
    "### Objectives"
   ]
  },
  {
   "cell_type": "markdown",
   "id": "b84466f2",
   "metadata": {},
   "source": [
    "### In this lab we will use;\n",
    "* Use a while loop\n",
    "* Incorporate input/output functionality in code to allow for user interaction\n",
    "* Declare and use a function with arguments\n",
    "* Use break and continue to add control flow to a while loop"
   ]
  },
  {
   "cell_type": "markdown",
   "id": "f4600868",
   "metadata": {},
   "source": [
    "### Approach"
   ]
  },
  {
   "cell_type": "markdown",
   "id": "529038e2",
   "metadata": {},
   "source": [
    "* User chooses the desired operation. Options 1, 2, 3, and 4 are valid options for operations\n",
    "* Two numbers are taken and an if…elif…else branching is used to execute a particular section\n",
    "* Using functions add(), subtract(), multiply(), and divide() evaluate respective operations\n",
    "* The code should handle exceptions and must return \"invalid input\" when an unexpected character is given in the input (anything other than 1 - 4)"
   ]
  },
  {
   "cell_type": "code",
   "execution_count": null,
   "id": "cb8737fd",
   "metadata": {},
   "outputs": [
    {
     "name": "stdout",
     "output_type": "stream",
     "text": [
      "Select an operation to perform:\n",
      "1. ADD\n",
      "2. SUBTRACT\n",
      "3. MULTIPLY\n",
      "4. DIVIDE\n",
      "1\n",
      "Enter first number:2\n",
      "Enter second number:2\n",
      "The sum is 4\n",
      "Continue? yes/n:yes\n",
      "Select an operation to perform:\n",
      "1. ADD\n",
      "2. SUBTRACT\n",
      "3. MULTIPLY\n",
      "4. DIVIDE\n"
     ]
    }
   ],
   "source": [
    "#while loop if user want to continue \n",
    "contin = \"yes\"\n",
    "while contin == \"yes\":\n",
    "    #print operations and output\n",
    "    print(\"Select an operation to perform:\")\n",
    "    print(\"1. ADD\")\n",
    "    print(\"2. SUBTRACT\")\n",
    "    print(\"3. MULTIPLY\")\n",
    "    print(\"4. DIVIDE\")\n",
    "\n",
    "    operation = input()\n",
    "#conditions for operation\n",
    "    if operation == \"1\":\n",
    "        num1 = input(\"Enter first number:\"  )\n",
    "        num2 = input(\"Enter second number:\"  )\n",
    "        print(\"The sum is \" + str(int(num1) + int(num2 )))\n",
    "    elif operation == \"2\":\n",
    "        num1 = input(\"Enter first number:\")\n",
    "        num2 = input(\"Enter second number:\")\n",
    "        print(\"The difference is \" + str(int(num1) - int(num2 )))\n",
    "    elif operation  == \"3\":\n",
    "        num1 = input(\"Enter first number:\")\n",
    "        num2 = input(\"Enter second number:\")\n",
    "        print(\"The product is \" + str(int(num1) * int(num2 )))\n",
    "    elif operation == \"4\":\n",
    "        num1 = input(\"Enter first number:\")\n",
    "        num2 = input(\"Enter second number:\")\n",
    "        print(\"The result is \" + str(int(num1) / int(num2 )))\n",
    "        #if number out of range inputed prompt the error\n",
    "    else :\n",
    "        print(\"Invalid Entry\")\n",
    "        #if the user wants to continue enter enter yes and the program continues\n",
    "    cont = input('Continue? yes/n:')\n",
    "    if cont == 'n':\n",
    "        break"
   ]
  },
  {
   "cell_type": "markdown",
   "id": "162ad3a0",
   "metadata": {},
   "source": [
    "### Function for user if they want normal division(\"/\", \"//\",\"%\")"
   ]
  },
  {
   "cell_type": "code",
   "execution_count": null,
   "id": "d51fd816",
   "metadata": {},
   "outputs": [],
   "source": [
    "def divide(number1, number2):\n",
    "    div = input('Press d for normal division, f for floor division, or m for modulo division')\n",
    "    if div == 'd':\n",
    "        return number1 / number2\n",
    "    elif div == 'f': \n",
    "        return number1 // number2\n",
    "    elif div == 'm':\n",
    "        return number1 % number2\n",
    "    else:\n",
    "        print ('Invalid input')\n",
    "    return None"
   ]
  }
 ],
 "metadata": {
  "kernelspec": {
   "display_name": "Python 3 (ipykernel)",
   "language": "python",
   "name": "python3"
  },
  "language_info": {
   "codemirror_mode": {
    "name": "ipython",
    "version": 3
   },
   "file_extension": ".py",
   "mimetype": "text/x-python",
   "name": "python",
   "nbconvert_exporter": "python",
   "pygments_lexer": "ipython3",
   "version": "3.9.13"
  }
 },
 "nbformat": 4,
 "nbformat_minor": 5
}
